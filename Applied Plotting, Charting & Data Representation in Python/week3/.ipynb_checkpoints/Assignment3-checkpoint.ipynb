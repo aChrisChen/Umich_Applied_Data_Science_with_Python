{
 "cells": [
  {
   "cell_type": "markdown",
   "metadata": {},
   "source": [
    "# Assignment 3 - Building a Custom Visualization\n",
    "\n",
    "---\n",
    "\n",
    "In this assignment you must choose one of the options presented below and submit a visual as well as your source code for peer grading. The details of how you solve the assignment are up to you, although your assignment must use matplotlib so that your peers can evaluate your work. The options differ in challenge level, but there are no grades associated with the challenge level you chose. However, your peers will be asked to ensure you at least met a minimum quality for a given technique in order to pass. Implement the technique fully (or exceed it!) and you should be able to earn full grades for the assignment.\n",
    "\n",
    "\n",
    "&nbsp;&nbsp;&nbsp;&nbsp;&nbsp;&nbsp;Ferreira, N., Fisher, D., & Konig, A. C. (2014, April). [Sample-oriented task-driven visualizations: allowing users to make better, more confident decisions.](https://www.microsoft.com/en-us/research/wp-content/uploads/2016/02/Ferreira_Fisher_Sample_Oriented_Tasks.pdf) \n",
    "&nbsp;&nbsp;&nbsp;&nbsp;&nbsp;&nbsp;In Proceedings of the SIGCHI Conference on Human Factors in Computing Systems (pp. 571-580). ACM. ([video](https://www.youtube.com/watch?v=BI7GAs-va-Q))\n",
    "\n",
    "\n",
    "In this [paper](https://www.microsoft.com/en-us/research/wp-content/uploads/2016/02/Ferreira_Fisher_Sample_Oriented_Tasks.pdf) the authors describe the challenges users face when trying to make judgements about probabilistic data generated through samples. As an example, they look at a bar chart of four years of data (replicated below in Figure 1). Each year has a y-axis value, which is derived from a sample of a larger dataset. For instance, the first value might be the number votes in a given district or riding for 1992, with the average being around 33,000. On top of this is plotted the 95% confidence interval for the mean (see the boxplot lectures for more information, and the yerr parameter of barcharts).\n",
    "\n",
    "<br>\n",
    "<img src=\"readonly/Assignment3Fig1.png\" alt=\"Figure 1\" style=\"width: 400px;\"/>\n",
    "<h4 style=\"text-align: center;\" markdown=\"1\">  &nbsp;&nbsp;&nbsp;&nbsp;&nbsp;&nbsp;&nbsp;&nbsp;Figure 1 from (Ferreira et al, 2014).</h4>\n",
    "\n",
    "<br>\n",
    "\n",
    "A challenge that users face is that, for a given y-axis value (e.g. 42,000), it is difficult to know which x-axis values are most likely to be representative, because the confidence levels overlap and their distributions are different (the lengths of the confidence interval bars are unequal). One of the solutions the authors propose for this problem (Figure 2c) is to allow users to indicate the y-axis value of interest (e.g. 42,000) and then draw a horizontal line and color bars based on this value. So bars might be colored red if they are definitely above this value (given the confidence interval), blue if they are definitely below this value, or white if they contain this value.\n",
    "\n",
    "\n",
    "<br>\n",
    "<img src=\"readonly/Assignment3Fig2c.png\" alt=\"Figure 1\" style=\"width: 400px;\"/>\n",
    "<h4 style=\"text-align: center;\" markdown=\"1\">  Figure 2c from (Ferreira et al. 2014). Note that the colorbar legend at the bottom as well as the arrows are not required in the assignment descriptions below.</h4>\n",
    "\n",
    "<br>\n",
    "<br>\n",
    "\n",
    "**Easiest option:** Implement the bar coloring as described above - a color scale with only three colors, (e.g. blue, white, and red). Assume the user provides the y axis value of interest as a parameter or variable.\n",
    "\n",
    "\n",
    "**Harder option:** Implement the bar coloring as described in the paper, where the color of the bar is actually based on the amount of data covered (e.g. a gradient ranging from dark blue for the distribution being certainly below this y-axis, to white if the value is certainly contained, to dark red if the value is certainly not contained as the distribution is above the axis).\n",
    "\n",
    "**Even Harder option:** Add interactivity to the above, which allows the user to click on the y axis to set the value of interest. The bar colors should change with respect to what value the user has selected.\n",
    "\n",
    "**Hardest option:** Allow the user to interactively set a range of y values they are interested in, and recolor based on this (e.g. a y-axis band, see the paper for more details).\n",
    "\n",
    "---\n",
    "\n",
    "*Note: The data given for this assignment is not the same as the data used in the article and as a result the visualizations may look a little different.*"
   ]
  },
  {
   "cell_type": "code",
   "execution_count": 8,
   "metadata": {
    "collapsed": false
   },
   "outputs": [
    {
     "data": {
      "text/html": [
       "<div>\n",
       "<table border=\"1\" class=\"dataframe\">\n",
       "  <thead>\n",
       "    <tr style=\"text-align: right;\">\n",
       "      <th></th>\n",
       "      <th>0</th>\n",
       "      <th>1</th>\n",
       "      <th>2</th>\n",
       "      <th>3</th>\n",
       "      <th>4</th>\n",
       "      <th>5</th>\n",
       "      <th>6</th>\n",
       "      <th>7</th>\n",
       "      <th>8</th>\n",
       "      <th>9</th>\n",
       "      <th>...</th>\n",
       "      <th>3640</th>\n",
       "      <th>3641</th>\n",
       "      <th>3642</th>\n",
       "      <th>3643</th>\n",
       "      <th>3644</th>\n",
       "      <th>3645</th>\n",
       "      <th>3646</th>\n",
       "      <th>3647</th>\n",
       "      <th>3648</th>\n",
       "      <th>3649</th>\n",
       "    </tr>\n",
       "  </thead>\n",
       "  <tbody>\n",
       "    <tr>\n",
       "      <th>1992</th>\n",
       "      <td>-8941.531897</td>\n",
       "      <td>127788.667612</td>\n",
       "      <td>-71887.743011</td>\n",
       "      <td>-79146.060869</td>\n",
       "      <td>425156.114501</td>\n",
       "      <td>310681.166595</td>\n",
       "      <td>50581.575349</td>\n",
       "      <td>88349.230566</td>\n",
       "      <td>185804.513522</td>\n",
       "      <td>281286.947277</td>\n",
       "      <td>...</td>\n",
       "      <td>171938.760289</td>\n",
       "      <td>150650.759924</td>\n",
       "      <td>203663.976475</td>\n",
       "      <td>-377877.158072</td>\n",
       "      <td>-197214.093861</td>\n",
       "      <td>24185.008589</td>\n",
       "      <td>-56826.729535</td>\n",
       "      <td>-67319.766489</td>\n",
       "      <td>113377.299342</td>\n",
       "      <td>-4494.878538</td>\n",
       "    </tr>\n",
       "    <tr>\n",
       "      <th>1993</th>\n",
       "      <td>-51896.094813</td>\n",
       "      <td>198350.518755</td>\n",
       "      <td>-123518.252821</td>\n",
       "      <td>-129916.759685</td>\n",
       "      <td>216119.147314</td>\n",
       "      <td>49845.883728</td>\n",
       "      <td>149135.648505</td>\n",
       "      <td>62807.672113</td>\n",
       "      <td>23365.577348</td>\n",
       "      <td>-109686.264981</td>\n",
       "      <td>...</td>\n",
       "      <td>-44566.520071</td>\n",
       "      <td>101032.122475</td>\n",
       "      <td>117648.199945</td>\n",
       "      <td>160475.622607</td>\n",
       "      <td>-13759.888342</td>\n",
       "      <td>-37333.493572</td>\n",
       "      <td>103019.841174</td>\n",
       "      <td>179746.127403</td>\n",
       "      <td>13455.493990</td>\n",
       "      <td>34442.898855</td>\n",
       "    </tr>\n",
       "    <tr>\n",
       "      <th>1994</th>\n",
       "      <td>152336.932066</td>\n",
       "      <td>192947.128056</td>\n",
       "      <td>389950.263156</td>\n",
       "      <td>-93006.152024</td>\n",
       "      <td>100818.575896</td>\n",
       "      <td>5529.230706</td>\n",
       "      <td>-32989.370488</td>\n",
       "      <td>223942.967178</td>\n",
       "      <td>-66721.580898</td>\n",
       "      <td>47826.269111</td>\n",
       "      <td>...</td>\n",
       "      <td>165085.806360</td>\n",
       "      <td>74735.174090</td>\n",
       "      <td>107329.726875</td>\n",
       "      <td>199250.734156</td>\n",
       "      <td>-36792.202754</td>\n",
       "      <td>-71861.846997</td>\n",
       "      <td>26375.113219</td>\n",
       "      <td>-29328.078384</td>\n",
       "      <td>65858.761714</td>\n",
       "      <td>-91542.001049</td>\n",
       "    </tr>\n",
       "    <tr>\n",
       "      <th>1995</th>\n",
       "      <td>-69708.439062</td>\n",
       "      <td>-13289.977022</td>\n",
       "      <td>-30178.390991</td>\n",
       "      <td>55052.181256</td>\n",
       "      <td>152883.621657</td>\n",
       "      <td>12930.835194</td>\n",
       "      <td>63700.461932</td>\n",
       "      <td>64148.489835</td>\n",
       "      <td>-29316.268556</td>\n",
       "      <td>59645.677367</td>\n",
       "      <td>...</td>\n",
       "      <td>-13901.388118</td>\n",
       "      <td>50173.686673</td>\n",
       "      <td>53965.990717</td>\n",
       "      <td>4128.990173</td>\n",
       "      <td>72202.595138</td>\n",
       "      <td>39937.199964</td>\n",
       "      <td>139472.114293</td>\n",
       "      <td>59386.186379</td>\n",
       "      <td>73362.229590</td>\n",
       "      <td>28705.082908</td>\n",
       "    </tr>\n",
       "  </tbody>\n",
       "</table>\n",
       "<p>4 rows × 3650 columns</p>\n",
       "</div>"
      ],
      "text/plain": [
       "               0              1              2              3     \\\n",
       "1992   -8941.531897  127788.667612  -71887.743011  -79146.060869   \n",
       "1993  -51896.094813  198350.518755 -123518.252821 -129916.759685   \n",
       "1994  152336.932066  192947.128056  389950.263156  -93006.152024   \n",
       "1995  -69708.439062  -13289.977022  -30178.390991   55052.181256   \n",
       "\n",
       "               4              5              6              7     \\\n",
       "1992  425156.114501  310681.166595   50581.575349   88349.230566   \n",
       "1993  216119.147314   49845.883728  149135.648505   62807.672113   \n",
       "1994  100818.575896    5529.230706  -32989.370488  223942.967178   \n",
       "1995  152883.621657   12930.835194   63700.461932   64148.489835   \n",
       "\n",
       "               8              9         ...                3640  \\\n",
       "1992  185804.513522  281286.947277      ...       171938.760289   \n",
       "1993   23365.577348 -109686.264981      ...       -44566.520071   \n",
       "1994  -66721.580898   47826.269111      ...       165085.806360   \n",
       "1995  -29316.268556   59645.677367      ...       -13901.388118   \n",
       "\n",
       "               3641           3642           3643           3644  \\\n",
       "1992  150650.759924  203663.976475 -377877.158072 -197214.093861   \n",
       "1993  101032.122475  117648.199945  160475.622607  -13759.888342   \n",
       "1994   74735.174090  107329.726875  199250.734156  -36792.202754   \n",
       "1995   50173.686673   53965.990717    4128.990173   72202.595138   \n",
       "\n",
       "              3645           3646           3647           3648          3649  \n",
       "1992  24185.008589  -56826.729535  -67319.766489  113377.299342  -4494.878538  \n",
       "1993 -37333.493572  103019.841174  179746.127403   13455.493990  34442.898855  \n",
       "1994 -71861.846997   26375.113219  -29328.078384   65858.761714 -91542.001049  \n",
       "1995  39937.199964  139472.114293   59386.186379   73362.229590  28705.082908  \n",
       "\n",
       "[4 rows x 3650 columns]"
      ]
     },
     "execution_count": 8,
     "metadata": {},
     "output_type": "execute_result"
    }
   ],
   "source": [
    "# Use the following data for this assignment:\n",
    "\n",
    "import pandas as pd\n",
    "import numpy as np\n",
    "\n",
    "np.random.seed(12345)\n",
    "\n",
    "df = pd.DataFrame([np.random.normal(32000,200000,3650), \n",
    "                   np.random.normal(43000,100000,3650), \n",
    "                   np.random.normal(43500,140000,3650), \n",
    "                   np.random.normal(48000,70000,3650)], \n",
    "                  index=[1992,1993,1994,1995])\n",
    "df"
   ]
  },
  {
   "cell_type": "code",
   "execution_count": 73,
   "metadata": {
    "collapsed": false
   },
   "outputs": [
    {
     "data": {
      "image/png": "[encoded data removed]",
      "text/plain": [
       "<matplotlib.figure.Figure at 0x7f7bdbfbd2e8>"
      ]
     },
     "metadata": {},
     "output_type": "display_data"
    }
   ],
   "source": [
    "from scipy import stats\n",
    "import matplotlib.pyplot as plt\n",
    "%matplotlib inline\n",
    "year_avg = df.mean(axis=1)\n",
    "year_std = df.std(axis=1)\n",
    "#  in the below, we use the T-distribution to estimate the error\n",
    "yerr = year_std / np.sqrt(df.shape[1]) * stats.t.ppf(1-0.05/2, df.shape[1]-1)\n",
    "\n",
    "bars = plt.bar(year_avg.index, year_avg.values, yerr=yerr, color=\"lightslategrey\", tick_label=year_avg.index )\n",
    "threshold = 42000\n",
    "_ = plt.axhline(y=threshold, color=\"grey\", alpha=0.5)"
   ]
  },
  {
   "cell_type": "code",
   "execution_count": 74,
   "metadata": {
    "collapsed": false
   },
   "outputs": [
    {
     "data": {
      "text/plain": [
       "(1992    200630.901553\n",
       " 1993     98398.356203\n",
       " 1994    140369.925240\n",
       " 1995     69781.185469\n",
       " dtype: float64, 60.415229867972862, 1.9606143120055213)"
      ]
     },
     "execution_count": 74,
     "metadata": {},
     "output_type": "execute_result"
    }
   ],
   "source": [
    "year_std , np.sqrt(df.shape[1]), stats.t.ppf(1-0.05/2, df.shape[1]-1)"
   ]
  },
  {
   "cell_type": "code",
   "execution_count": 75,
   "metadata": {
    "collapsed": false
   },
   "outputs": [
    {
     "data": {
      "text/plain": [
       "1992    6510.938018\n",
       "1993    3193.254844\n",
       "1994    4555.329592\n",
       "1995    2264.561291\n",
       "dtype: float64"
      ]
     },
     "execution_count": 75,
     "metadata": {},
     "output_type": "execute_result"
    }
   ],
   "source": [
    "yerr"
   ]
  },
  {
   "cell_type": "code",
   "execution_count": 83,
   "metadata": {
    "collapsed": false
   },
   "outputs": [
    {
     "data": {
      "text/plain": [
       "<matplotlib.cm.ScalarMappable at 0x7f7bdbad2b00>"
      ]
     },
     "execution_count": 83,
     "metadata": {},
     "output_type": "execute_result"
    }
   ],
   "source": [
    "# creat a map function that can transform value to the different rgba\n",
    "import matplotlib.colors as mcol\n",
    "import matplotlib.cm as cm\n",
    "# select three color as the extreme value\n",
    "cm1 = mcol.LinearSegmentedColormap.from_list(\"My_colormap\", [\"blue\", \"white\", \"purple\"])\n",
    "# generate the rgba map function using the mcol\n",
    "cpick = cm.ScalarMappable(cmap=cm1)\n",
    "cpick.set_array([])\n",
    "cpick"
   ]
  },
  {
   "cell_type": "code",
   "execution_count": 84,
   "metadata": {
    "collapsed": false
   },
   "outputs": [
    {
     "data": {
      "text/plain": [
       "[0, 0.47836996017248229, 0.22486128520509721, 1]"
      ]
     },
     "execution_count": 84,
     "metadata": {},
     "output_type": "execute_result"
    }
   ],
   "source": [
    "percentages = []\n",
    "for bar, yerr_ind in zip(bars, yerr):\n",
    "    low = bar.get_height() - yerr_ind\n",
    "    high = bar.get_height() + yerr_ind\n",
    "    percentage = (high - threshold)/(high-low)\n",
    "    if percentage > 1: percentage = 1\n",
    "    if percentage < 0: percentage = 0\n",
    "    percentages.append(percentage)\n",
    "percentages"
   ]
  },
  {
   "cell_type": "code",
   "execution_count": 87,
   "metadata": {
    "collapsed": false
   },
   "outputs": [],
   "source": [
    "color=cpick.to_rgba(percentages)"
   ]
  },
  {
   "cell_type": "code",
   "execution_count": 93,
   "metadata": {
    "collapsed": false
   },
   "outputs": [
    {
     "data": {
      "text/plain": [
       "<matplotlib.colorbar.Colorbar at 0x7f7bc7ee0198>"
      ]
     },
     "execution_count": 93,
     "metadata": {},
     "output_type": "execute_result"
    },
    {
     "data": {
      "image/png": "[encoded data removed]",
      "text/plain": [
       "<matplotlib.figure.Figure at 0x7f7bdba855f8>"
      ]
     },
     "metadata": {},
     "output_type": "display_data"
    }
   ],
   "source": [
    "bars = plt.bar(year_avg.index, year_avg.values, yerr=yerr, color=color, tick_label=year_avg.index)\n",
    "threshold = 42000\n",
    "_ = plt.axhline(y=threshold, color=\"grey\", alpha=0.5)\n",
    "plt.colorbar(cpick, orientation=\"horizontal\")"
   ]
  },
  {
   "cell_type": "code",
   "execution_count": 95,
   "metadata": {
    "collapsed": true
   },
   "outputs": [],
   "source": [
    "plt.xticks?"
   ]
  },
  {
   "cell_type": "code",
   "execution_count": null,
   "metadata": {
    "collapsed": true
   },
   "outputs": [],
   "source": []
  }
 ],
 "metadata": {
  "anaconda-cloud": {},
  "kernelspec": {
   "display_name": "Python [default]",
   "language": "python",
   "name": "python3"
  },
  "language_info": {
   "codemirror_mode": {
    "name": "ipython",
    "version": 3
   },
   "file_extension": ".py",
   "mimetype": "text/x-python",
   "name": "python",
   "nbconvert_exporter": "python",
   "pygments_lexer": "ipython3",
   "version": "3.5.2"
  }
 },
 "nbformat": 4,
 "nbformat_minor": 2
}
